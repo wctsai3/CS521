{
 "cells": [
  {
   "cell_type": "markdown",
   "metadata": {
    "id": "Whsg1XX_OZs6"
   },
   "source": [
    "# Boilerplate\n",
    "\n",
    "Package installation, loading, and dataloaders. There's also a simple model defined. You can change it your favourite architecture if you want."
   ]
  },
  {
   "cell_type": "code",
   "execution_count": 1,
   "metadata": {
    "id": "R1domTvnONqD"
   },
   "outputs": [
    {
     "data": {
      "text/plain": [
       "Sequential(\n",
       "  (0): Normalize()\n",
       "  (1): Net(\n",
       "    (fc): Linear(in_features=784, out_features=200, bias=True)\n",
       "    (fc2): Linear(in_features=200, out_features=10, bias=True)\n",
       "  )\n",
       ")"
      ]
     },
     "execution_count": 1,
     "metadata": {},
     "output_type": "execute_result"
    }
   ],
   "source": [
    "# !pip install tensorboardX\n",
    "\n",
    "import torch\n",
    "import torch.nn as nn\n",
    "import torch.optim as optim\n",
    "import torch.nn.functional as F\n",
    "import numpy as np\n",
    "import time\n",
    "import matplotlib.pyplot as plt\n",
    "from torchvision.utils import save_image\n",
    "from torchvision import datasets, transforms\n",
    "# from tensorboardX import SummaryWriter\n",
    "\n",
    "use_cuda = False\n",
    "device = torch.device(\"cuda\" if use_cuda else \"cpu\")\n",
    "batch_size = 64\n",
    "\n",
    "np.random.seed(42)\n",
    "torch.manual_seed(42)\n",
    "\n",
    "\n",
    "## Dataloaders\n",
    "train_dataset = datasets.MNIST('mnist_data/', train=True, download=True, transform=transforms.Compose(\n",
    "    [transforms.ToTensor()]\n",
    "))\n",
    "test_dataset = datasets.MNIST('mnist_data/', train=False, download=True, transform=transforms.Compose(\n",
    "    [transforms.ToTensor()]\n",
    "))\n",
    "\n",
    "train_loader = torch.utils.data.DataLoader(train_dataset, batch_size=batch_size, shuffle=True)\n",
    "test_loader = torch.utils.data.DataLoader(test_dataset, batch_size=batch_size, shuffle=False)\n",
    "\n",
    "## Simple NN. You can change this if you want. If you change it, mention the architectural details in your report.\n",
    "class Net(nn.Module):\n",
    "    def __init__(self):\n",
    "        super(Net, self).__init__()\n",
    "        self.fc = nn.Linear(28*28, 200)\n",
    "        self.fc2 = nn.Linear(200,10)\n",
    "\n",
    "    def forward(self, x):\n",
    "        x = x.view((-1, 28*28))\n",
    "        x = F.relu(self.fc(x))\n",
    "        x = self.fc2(x)\n",
    "        return x\n",
    "\n",
    "class Normalize(nn.Module):\n",
    "    def forward(self, x):\n",
    "        return (x - 0.1307)/0.3081\n",
    "\n",
    "# Add the data normalization as a first \"layer\" to the network\n",
    "# this allows us to search for adverserial examples to the real image, rather than\n",
    "# to the normalized image\n",
    "model = nn.Sequential(Normalize(), Net())\n",
    "\n",
    "model = model.to(device)\n",
    "model.train()"
   ]
  },
  {
   "cell_type": "code",
   "execution_count": 13,
   "metadata": {},
   "outputs": [
    {
     "name": "stdout",
     "output_type": "stream",
     "text": [
      "2\n",
      "x.shape :  torch.Size([64, 1, 28, 28])\n",
      "y.shape :  torch.Size([64])\n",
      "output.shape :  torch.Size([64, 10])\n",
      "prediction.shape :  torch.Size([64])\n",
      "Correctly predicted: 8 / 64\n"
     ]
    }
   ],
   "source": [
    "for batch in train_loader:\n",
    "    x, y = batch\n",
    "    print(len(batch))\n",
    "    print('x.shape : ', x.shape)\n",
    "    print('y.shape : ', y.shape)\n",
    "\n",
    "    output = model(x)\n",
    "    print('output.shape : ', output.shape)\n",
    "    prediction = output.argmax(dim=1)\n",
    "    print('prediction.shape : ', prediction.shape)\n",
    "    correct = (y == prediction).sum().item()\n",
    "    total = y.size(0)\n",
    "    print(f'Correctly predicted: {correct} / {total}')\n",
    "\n",
    "    break\n",
    "\n",
    "criterion = nn.CrossEntropyLoss()"
   ]
  },
  {
   "cell_type": "markdown",
   "metadata": {
    "id": "NCmWfZHTO8Oo"
   },
   "source": [
    "# Implement the Attacks\n",
    "\n",
    "Functions are given a simple useful signature that you can start with. Feel free to extend the signature as you see fit.\n",
    "\n",
    "You may find it useful to create a 'batched' version of PGD that you can use to create the adversarial attack."
   ]
  },
  {
   "cell_type": "code",
   "execution_count": 3,
   "metadata": {
    "id": "EZjvA49yONqP"
   },
   "outputs": [],
   "source": [
    "# The last argument 'targeted' can be used to toggle between a targeted and untargeted attack.\n",
    "def fgsm(model, x, y, eps, targeted=False):\n",
    "    #TODO: implement this as an intermediate step of PGD\n",
    "    # Notes: put the model in eval() mode for this function\n",
    "\n",
    "    model.eval()\n",
    "    x = x.clone().detach().to(device)\n",
    "    x.requires_grad = True\n",
    "\n",
    "    output = model(x)\n",
    "    loss = criterion(output, y)\n",
    "\n",
    "    model.zero_grad()\n",
    "    loss.backward()\n",
    "\n",
    "    # print('ha')\n",
    "    gradient = x.grad.data\n",
    "    sign_gradient = torch.sign(gradient)\n",
    "\n",
    "    if targeted:\n",
    "        adv = x - eps * sign_gradient\n",
    "    else:\n",
    "        adv = x + eps * sign_gradient\n",
    "    adv = torch.clamp(adv, 0, 1)\n",
    "\n",
    "    return adv\n",
    "    \n",
    "\n",
    "def pgd_untargeted(model, x, y, k, eps, eps_step):\n",
    "    #TODO: implement this \n",
    "    # Notes: put the model in eval() mode for this function\n",
    "    # x: input image\n",
    "    # y: ground truth label for x\n",
    "    # k: steps of FGSM\n",
    "    # eps: projection region for PGD (note the need for normalization before projection, as eps values are for inputs in [0,1])\n",
    "    # eps_step: step for one iteration of FGSM\n",
    "    model.eval()\n",
    "\n",
    "    tempt = x.clone().detach()\n",
    "    tempt.requires_grad = True\n",
    "\n",
    "    for _ in range(k):\n",
    "        tempt = fgsm(model, tempt, y, eps_step)\n",
    "        tempt = torch.clamp(tempt, x - eps, x + eps)\n",
    "        tempt = torch.clamp(tempt, 0, 1)\n",
    "\n",
    "    return tempt"
   ]
  },
  {
   "cell_type": "markdown",
   "metadata": {
    "id": "0Mja_AB4RykO"
   },
   "source": [
    "# Implement Adversarial Training"
   ]
  },
  {
   "cell_type": "code",
   "execution_count": 4,
   "metadata": {
    "id": "V-sw8yKYONqQ"
   },
   "outputs": [],
   "source": [
    "def train_model(model, train_loader, num_epochs, enable_defense=True, attack='pgd', eps=0.1, eps_step=0.01, k=10):\n",
    "    # TODO: implement this function that trains a given model on the MNIST dataset.\n",
    "    # this is a general-purpose function for both standard training and adversarial training.\n",
    "    # (toggle enable_defense parameter to switch between training schemes)\n",
    "    model.train()\n",
    "    optimizer = optim.Adam(model.parameters(), lr=0.001)\n",
    "    # optimizer = optim.SGD(model.parameters(), lr=0.001)\n",
    "\n",
    "    for epoch in range(num_epochs):\n",
    "        original_losses = []\n",
    "        original_correct = 0\n",
    "        original_total = 0\n",
    "        adversarial_losses = []\n",
    "        adversarial_correct = 0\n",
    "        adversarial_total = 0\n",
    "        for index, batch in enumerate(train_loader):\n",
    "\n",
    "            # original data\n",
    "            x, y = batch\n",
    "            optimizer.zero_grad()\n",
    "            output = model(x)\n",
    "            loss = criterion(output, y)\n",
    "            loss.backward()\n",
    "            optimizer.step()\n",
    "            \n",
    "            original_losses.append(loss.item())\n",
    "            prediction = output.argmax(dim=1)\n",
    "            original_correct += (y == prediction).sum().item()\n",
    "            original_total += y.size(0)\n",
    "\n",
    "            # -------------------------------------------\n",
    "            \n",
    "            if enable_defense:\n",
    "                x, y = batch\n",
    "                if attack == 'fgsm':\n",
    "                    adv = fgsm(model, x, y, eps)\n",
    "                elif attack == 'pgd':\n",
    "                    adv = pgd_untargeted(model, x, y, k, eps, eps_step)\n",
    "                \n",
    "\n",
    "                optimizer.zero_grad()\n",
    "                output = model(adv)\n",
    "                # print('output : ', output)\n",
    "                # print('y : ', y)\n",
    "                loss = criterion(output, y)\n",
    "                loss.backward()\n",
    "                optimizer.step()\n",
    "\n",
    "                adversarial_losses.append(loss.item())\n",
    "                prediction = output.argmax(dim=1)\n",
    "                adversarial_correct += (y == prediction).sum().item()\n",
    "                adversarial_total += y.size(0)\n",
    "\n",
    "        print(f'{epoch + 1} loss : {sum(original_losses + adversarial_losses) / len(original_losses + adversarial_losses)}, Accuracy : {(original_correct + adversarial_correct) / (original_total + adversarial_total)}')"
   ]
  },
  {
   "cell_type": "code",
   "execution_count": 5,
   "metadata": {},
   "outputs": [],
   "source": [
    "def test_model(model, test_loader):\n",
    "    model.eval()\n",
    "    correct = 0\n",
    "    total  = 0\n",
    "\n",
    "    for index, batch in enumerate(test_loader):\n",
    "        x, y = batch\n",
    "\n",
    "        output = model(x)\n",
    "        prediction = output.argmax(dim=1)\n",
    "        # print('output.shape : ', output.shape)\n",
    "        # print('prediction.shape : ', prediction.shape)\n",
    "\n",
    "        correct += (y == prediction).sum().item()\n",
    "        total += y.size(0)\n",
    "    \n",
    "    accuracy = 100. * correct / total\n",
    "    # print(f'Test Accuracy : {accuracy:.2f}%')\n",
    "    return accuracy\n",
    "\n",
    "def test_model_on_attacks(model, test_loader, attack='pgd', eps=0.1, eps_step=0.01, k=10):\n",
    "    # TODO: implement this function to test the robust accuracy of the given model\n",
    "    # use pgd_untargeted() within this function\n",
    "    model.eval()\n",
    "    correct = 0\n",
    "    total  = 0\n",
    "\n",
    "    for index, batch in enumerate(test_loader):\n",
    "        x, y = batch\n",
    "\n",
    "        if attack == 'fgsm':\n",
    "            adv = fgsm(model, x, y, eps)\n",
    "        elif attack == 'pgd':\n",
    "            adv = pgd_untargeted(model, x, y, k, eps, eps_step)\n",
    "        else:\n",
    "            adv = x\n",
    "\n",
    "        \n",
    "\n",
    "        output = model(adv)\n",
    "        prediction = output.argmax(dim=1)\n",
    "        # print('output.shape : ', output.shape)\n",
    "        # print('prediction.shape : ', prediction.shape)\n",
    "\n",
    "        correct += (y == prediction).sum().item()\n",
    "        total += y.size(0)\n",
    "    \n",
    "    accuracy = 100. * correct / total\n",
    "    # print(f'Accuracy under {attack.upper()} attack (eps={eps}): {accuracy:.2f}%')\n",
    "    return accuracy"
   ]
  },
  {
   "cell_type": "markdown",
   "metadata": {
    "id": "ZPMdfEhtR3zm"
   },
   "source": [
    "# Study Accuracy, Quality, etc.\n",
    "\n",
    "Compare the various results and report your observations on the submission."
   ]
  },
  {
   "cell_type": "markdown",
   "metadata": {},
   "source": [
    "# Problem 1"
   ]
  },
  {
   "cell_type": "code",
   "execution_count": 6,
   "metadata": {
    "scrolled": true
   },
   "outputs": [
    {
     "name": "stdout",
     "output_type": "stream",
     "text": [
      "1 loss : 0.23905898032705986, Accuracy : 0.9282666666666667\n",
      "2 loss : 0.10033603512973928, Accuracy : 0.96995\n",
      "3 loss : 0.06849036431426543, Accuracy : 0.9793666666666667\n",
      "4 loss : 0.051070174979748945, Accuracy : 0.9838666666666667\n",
      "5 loss : 0.03908441214922017, Accuracy : 0.98725\n",
      "6 loss : 0.030069047894288124, Accuracy : 0.9900833333333333\n",
      "7 loss : 0.02574485198264869, Accuracy : 0.9915\n",
      "8 loss : 0.0218078593239074, Accuracy : 0.9927833333333334\n",
      "9 loss : 0.016906885621811835, Accuracy : 0.9942166666666666\n",
      "10 loss : 0.017344459976769113, Accuracy : 0.9939666666666667\n",
      "11 loss : 0.015821541599720643, Accuracy : 0.9944\n",
      "12 loss : 0.013219151759669043, Accuracy : 0.9953\n",
      "13 loss : 0.014561557625624165, Accuracy : 0.9949666666666667\n",
      "14 loss : 0.01046599839265642, Accuracy : 0.9965666666666667\n",
      "15 loss : 0.010500290336188402, Accuracy : 0.9968166666666667\n",
      "16 loss : 0.010800080451645044, Accuracy : 0.9964\n",
      "17 loss : 0.010844431493202673, Accuracy : 0.9963333333333333\n",
      "18 loss : 0.011033730781030806, Accuracy : 0.9963\n",
      "19 loss : 0.00757871438479067, Accuracy : 0.9973\n",
      "20 loss : 0.009354168459601348, Accuracy : 0.99685\n"
     ]
    }
   ],
   "source": [
    "## train the original model\n",
    "standard_training_model = nn.Sequential(Normalize(), Net())\n",
    "standard_training_model = standard_training_model.to(device)\n",
    "standard_training_model.train()\n",
    "\n",
    "train_model(standard_training_model, train_loader, 20, False)\n",
    "torch.save(standard_training_model.state_dict(), 'standard_training_weights.pt')"
   ]
  },
  {
   "cell_type": "code",
   "execution_count": 7,
   "metadata": {},
   "outputs": [
    {
     "name": "stdout",
     "output_type": "stream",
     "text": [
      "Standard Accuracy :  97.74\n",
      "\n",
      "Adversarial Accuracy (eps=0.05) :  71.08\n",
      "Robust Accuracy (eps=0.05) : 84.41\n",
      "\n",
      "Adversarial Accuracy (eps=0.1) :  29.46\n",
      "Robust Accuracy (eps=0.1) : 63.599999999999994\n",
      "\n",
      "Adversarial Accuracy (eps=0.15) :  29.46\n",
      "Robust Accuracy (eps=0.15) : 63.599999999999994\n",
      "\n",
      "Adversarial Accuracy (eps=0.2) :  29.46\n",
      "Robust Accuracy (eps=0.2) : 63.599999999999994\n",
      "\n"
     ]
    }
   ],
   "source": [
    "## PGD attack\n",
    "# model = nn.Sequential(Normalize(), Net())\n",
    "# model.load_state_dict(torch.load('weights.pt'))\n",
    "\n",
    "standard_accuracy = test_model(standard_training_model, test_loader)\n",
    "print(f'Standard Accuracy : ', standard_accuracy)\n",
    "print()\n",
    "\n",
    "for eps in [0.05, 0.1, 0.15, 0.2]:\n",
    "    standard_accuracy = test_model(standard_training_model, test_loader)\n",
    "    adversarial_accuracy = test_model_on_attacks(standard_training_model, test_loader, attack='pgd', eps=eps)\n",
    "    print(f'Adversarial Accuracy (eps={eps}) : ', adversarial_accuracy)\n",
    "    print(f'Robust Accuracy (eps={eps}) : {(standard_accuracy + adversarial_accuracy) / 2}')\n",
    "    print()"
   ]
  },
  {
   "cell_type": "code",
   "execution_count": 8,
   "metadata": {},
   "outputs": [
    {
     "data": {
      "image/png": "[encoded data removed]",
      "text/plain": [
       "<Figure size 600x600 with 6 Axes>"
      ]
     },
     "metadata": {},
     "output_type": "display_data"
    },
    {
     "data": {
      "image/png": "[encoded data removed]",
      "text/plain": [
       "<Figure size 600x600 with 6 Axes>"
      ]
     },
     "metadata": {},
     "output_type": "display_data"
    },
    {
     "data": {
      "image/png": "[encoded data removed]",
      "text/plain": [
       "<Figure size 600x600 with 6 Axes>"
      ]
     },
     "metadata": {},
     "output_type": "display_data"
    },
    {
     "data": {
      "image/png": "[encoded data removed]",
      "text/plain": [
       "<Figure size 600x600 with 6 Axes>"
      ]
     },
     "metadata": {},
     "output_type": "display_data"
    }
   ],
   "source": [
    "def plot_adversarial_examples(model, data_loader, eps, n_examples=2):\n",
    "    model.eval()\n",
    "    \n",
    "    fig, axs = plt.subplots(nrows=n_examples, ncols=3, figsize=(6, 3 * n_examples))\n",
    "    fig.suptitle(f'Original and Adversarial Examples (eps={eps})')\n",
    "\n",
    "    count = 0\n",
    "\n",
    "    for index, (x, y) in enumerate(data_loader):\n",
    "        if index % 2 != 0:\n",
    "            continue\n",
    "        if count >= n_examples:\n",
    "            break\n",
    "        x, y = x.to(device), y.to(device)\n",
    "\n",
    "        original_image = x[0].unsqueeze(0)\n",
    "        target = y[0].unsqueeze(0)\n",
    "        \n",
    "        fgsm_image = fgsm(model, original_image, target, eps)\n",
    "        eps_step = 0.01\n",
    "        k = 10\n",
    "        pgd_image = pgd_untargeted(model, original_image, target, k, eps, eps_step)\n",
    "        \n",
    "        axs[count, 0].imshow(original_image.cpu().detach().numpy().squeeze(), cmap='gray')\n",
    "        axs[count, 0].set_title('Original')\n",
    "        axs[count, 0].axis('off')\n",
    "        \n",
    "        axs[count, 1].imshow(fgsm_image.cpu().detach().numpy().squeeze(), cmap='gray')\n",
    "        axs[count, 1].set_title('FGSM')\n",
    "        axs[count, 1].axis('off')\n",
    "\n",
    "        axs[count, 2].imshow(pgd_image.cpu().detach().numpy().squeeze(), cmap='gray')\n",
    "        axs[count, 2].set_title('PGD')\n",
    "        axs[count, 2].axis('off')\n",
    "\n",
    "        count += 1\n",
    "\n",
    "    plt.tight_layout()\n",
    "    plt.subplots_adjust(top=0.88)\n",
    "    plt.show()\n",
    "\n",
    "for eps in [0.05, 0.1, 0.15, 0.2]:\n",
    "    plot_adversarial_examples(standard_training_model, test_loader, eps)"
   ]
  },
  {
   "cell_type": "markdown",
   "metadata": {},
   "source": [
    "# Problem 2"
   ]
  },
  {
   "cell_type": "code",
   "execution_count": 9,
   "metadata": {
    "id": "ufD-ccTFR8R2"
   },
   "outputs": [
    {
     "name": "stdout",
     "output_type": "stream",
     "text": [
      "1 loss : 0.44939482596063457, Accuracy : 0.8507583333333333\n",
      "2 loss : 0.2827610367859926, Accuracy : 0.9067083333333333\n",
      "3 loss : 0.25358089580680176, Accuracy : 0.917075\n",
      "4 loss : 0.23423477156938655, Accuracy : 0.9232166666666667\n",
      "5 loss : 0.2238830815275152, Accuracy : 0.92585\n",
      "6 loss : 0.21368045564234528, Accuracy : 0.929\n",
      "7 loss : 0.20846612212665902, Accuracy : 0.9309166666666666\n",
      "8 loss : 0.2027356050555348, Accuracy : 0.93235\n",
      "9 loss : 0.19899717073213422, Accuracy : 0.9332916666666666\n",
      "10 loss : 0.1944471302791995, Accuracy : 0.9351083333333333\n",
      "11 loss : 0.1909157535756133, Accuracy : 0.9364\n",
      "12 loss : 0.18847415947844573, Accuracy : 0.9376333333333333\n",
      "13 loss : 0.18649029173952927, Accuracy : 0.938325\n",
      "14 loss : 0.18342541286504385, Accuracy : 0.9386333333333333\n",
      "15 loss : 0.17961347755475982, Accuracy : 0.9401333333333334\n",
      "16 loss : 0.179405039889699, Accuracy : 0.940325\n",
      "17 loss : 0.17709784989707794, Accuracy : 0.9410333333333334\n",
      "18 loss : 0.17674050105007505, Accuracy : 0.9419416666666667\n",
      "19 loss : 0.1753581994913021, Accuracy : 0.9417083333333334\n",
      "20 loss : 0.1742627784407619, Accuracy : 0.9414583333333333\n"
     ]
    }
   ],
   "source": [
    "## PGD based adversarial training\n",
    "eps = 0.1\n",
    "adversarial_training_model = nn.Sequential(Normalize(), Net())\n",
    "train_model(adversarial_training_model, train_loader, 20, True, 'pgd', eps)\n",
    "# torch.save(adversarial_training_model.state_dict(), f'adversarial_training_weights_AT_{eps}.pt')"
   ]
  },
  {
   "cell_type": "code",
   "execution_count": 10,
   "metadata": {},
   "outputs": [
    {
     "name": "stdout",
     "output_type": "stream",
     "text": [
      "Standard Accuracy (eps=0.1) :  98.43\n",
      "\n",
      "PGD Adversarial Accuracy (eps=0.05) :  95.01\n",
      "FGSM Adversarial Accuracy (eps=0.05) :  95.32\n",
      "Robust Accuracy (eps=0.05) : 96.72\n",
      "\n",
      "PGD Adversarial Accuracy (eps=0.1) :  87.16\n",
      "FGSM Adversarial Accuracy (eps=0.1) :  89.23\n",
      "Robust Accuracy (eps=0.1) : 92.795\n",
      "\n",
      "PGD Adversarial Accuracy (eps=0.15) :  87.16\n",
      "FGSM Adversarial Accuracy (eps=0.15) :  78.13\n",
      "Robust Accuracy (eps=0.15) : 92.795\n",
      "\n",
      "PGD Adversarial Accuracy (eps=0.2) :  87.16\n",
      "FGSM Adversarial Accuracy (eps=0.2) :  60.96\n",
      "Robust Accuracy (eps=0.2) : 92.795\n",
      "\n"
     ]
    }
   ],
   "source": [
    "## PGD attack\n",
    "# model = nn.Sequential(Normalize(), Net())\n",
    "# model.load_state_dict(torch.load(f'weights_AT_{eps}.pt'))\n",
    "\n",
    "standard_accuracy = test_model(adversarial_training_model, test_loader)\n",
    "print(f'Standard Accuracy (eps={eps}) : ', standard_accuracy)\n",
    "print()\n",
    "\n",
    "for eps in [0.05, 0.1, 0.15, 0.2]:\n",
    "    pgd_adversarial_accuracy = test_model_on_attacks(adversarial_training_model, test_loader, attack='pgd', eps=eps)\n",
    "    fgsm_adversarial_accuracy = test_model_on_attacks(adversarial_training_model, test_loader, attack='fgsm', eps=eps)\n",
    "    print(f'PGD Adversarial Accuracy (eps={eps}) : ', pgd_adversarial_accuracy)\n",
    "    print(f'FGSM Adversarial Accuracy (eps={eps}) : ', fgsm_adversarial_accuracy)\n",
    "    print(f'Robust Accuracy (eps={eps}) : {(standard_accuracy + pgd_adversarial_accuracy) / 2}')\n",
    "    print()"
   ]
  },
  {
   "cell_type": "code",
   "execution_count": 11,
   "metadata": {},
   "outputs": [
    {
     "name": "stdout",
     "output_type": "stream",
     "text": [
      "1 loss : 0.43184506574244513, Accuracy : 0.858325\n",
      "2 loss : 0.2677692845071565, Accuracy : 0.9126833333333333\n",
      "3 loss : 0.23365506869807803, Accuracy : 0.9246083333333334\n",
      "4 loss : 0.2145881250649363, Accuracy : 0.9295\n",
      "5 loss : 0.2023220270033628, Accuracy : 0.9337333333333333\n",
      "6 loss : 0.19286790185906827, Accuracy : 0.9363083333333333\n",
      "7 loss : 0.18550646168106957, Accuracy : 0.9391333333333334\n",
      "8 loss : 0.17980222290467177, Accuracy : 0.9409583333333333\n",
      "9 loss : 0.17771146612488595, Accuracy : 0.942125\n",
      "10 loss : 0.17036012288265878, Accuracy : 0.9436916666666667\n",
      "11 loss : 0.16787922193774016, Accuracy : 0.9445083333333333\n",
      "12 loss : 0.16505002746573721, Accuracy : 0.9455333333333333\n",
      "13 loss : 0.1635342970042294, Accuracy : 0.9467833333333333\n",
      "14 loss : 0.16062554966637008, Accuracy : 0.9467\n",
      "15 loss : 0.15842801822946212, Accuracy : 0.94775\n",
      "16 loss : 0.15599423260337722, Accuracy : 0.9481083333333333\n",
      "17 loss : 0.1551529607432249, Accuracy : 0.9487666666666666\n",
      "18 loss : 0.15326527152721808, Accuracy : 0.9488583333333334\n",
      "19 loss : 0.15113315266738053, Accuracy : 0.9494\n",
      "20 loss : 0.15040689650313632, Accuracy : 0.950675\n"
     ]
    }
   ],
   "source": [
    "## PGD based adversarial training\n",
    "eps = 0.1\n",
    "fgsm_model = nn.Sequential(Normalize(), Net())\n",
    "train_model(fgsm_model, train_loader, 20, True, 'fgsm', eps)\n",
    "# torch.save(fgsm_model.state_dict(), f'adversarial_training_weights_AT_{eps}.pt')"
   ]
  },
  {
   "cell_type": "code",
   "execution_count": 12,
   "metadata": {},
   "outputs": [
    {
     "name": "stdout",
     "output_type": "stream",
     "text": [
      "Standard Accuracy (eps=0.1) :  98.52\n",
      "\n",
      "PGD Adversarial Accuracy (eps=0.05) :  94.81\n",
      "FGSM Adversarial Accuracy (eps=0.05) :  95.14\n",
      "Robust Accuracy (eps=0.05) : 96.66499999999999\n",
      "\n",
      "PGD Adversarial Accuracy (eps=0.1) :  85.94\n",
      "FGSM Adversarial Accuracy (eps=0.1) :  88.3\n",
      "Robust Accuracy (eps=0.1) : 92.22999999999999\n",
      "\n",
      "PGD Adversarial Accuracy (eps=0.15) :  85.94\n",
      "FGSM Adversarial Accuracy (eps=0.15) :  75.79\n",
      "Robust Accuracy (eps=0.15) : 92.22999999999999\n",
      "\n",
      "PGD Adversarial Accuracy (eps=0.2) :  85.94\n",
      "FGSM Adversarial Accuracy (eps=0.2) :  56.99\n",
      "Robust Accuracy (eps=0.2) : 92.22999999999999\n",
      "\n"
     ]
    }
   ],
   "source": [
    "standard_accuracy = test_model(fgsm_model, test_loader)\n",
    "print(f'Standard Accuracy (eps={eps}) : ', standard_accuracy)\n",
    "print()\n",
    "\n",
    "for eps in [0.05, 0.1, 0.15, 0.2]:\n",
    "    pgd_adversarial_accuracy = test_model_on_attacks(fgsm_model, test_loader, attack='pgd', eps=eps)\n",
    "    fgsm_adversarial_accuracy = test_model_on_attacks(fgsm_model, test_loader, attack='fgsm', eps=eps)\n",
    "    print(f'PGD Adversarial Accuracy (eps={eps}) : ', pgd_adversarial_accuracy)\n",
    "    print(f'FGSM Adversarial Accuracy (eps={eps}) : ', fgsm_adversarial_accuracy)\n",
    "    print(f'Robust Accuracy (eps={eps}) : {(standard_accuracy + pgd_adversarial_accuracy) / 2}')\n",
    "    print()"
   ]
  },
  {
   "cell_type": "code",
   "execution_count": null,
   "metadata": {},
   "outputs": [],
   "source": []
  }
 ],
 "metadata": {
  "colab": {
   "provenance": []
  },
  "kernelspec": {
   "display_name": "Python 3 (ipykernel)",
   "language": "python",
   "name": "python3"
  },
  "language_info": {
   "codemirror_mode": {
    "name": "ipython",
    "version": 3
   },
   "file_extension": ".py",
   "mimetype": "text/x-python",
   "name": "python",
   "nbconvert_exporter": "python",
   "pygments_lexer": "ipython3",
   "version": "3.10.11"
  }
 },
 "nbformat": 4,
 "nbformat_minor": 1
}
