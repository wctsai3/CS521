{
 "cells": [
  {
   "cell_type": "code",
   "execution_count": 1,
   "metadata": {},
   "outputs": [],
   "source": [
    "import torchtext\n",
    "torchtext.disable_torchtext_deprecation_warning()\n",
    "\n",
    "import random\n",
    "import nltk\n",
    "import pickle\n",
    "from collections import OrderedDict\n",
    "from tqdm import tqdm\n",
    "import numpy as np\n",
    "from nltk.corpus import stopwords\n",
    "import torch\n",
    "import torch.nn as nn\n",
    "import torch.optim as optim\n",
    "from torchtext.vocab import GloVe\n",
    "from torchtext.datasets import IMDB\n",
    "from torchtext.data.utils import get_tokenizer\n",
    "from torch.utils.data import DataLoader, Dataset\n",
    "import torch.nn.functional as F\n",
    "from sklearn.metrics.pairwise import cosine_distances\n",
    "import matplotlib.pyplot as plt"
   ]
  },
  {
   "cell_type": "code",
   "execution_count": 2,
   "metadata": {},
   "outputs": [
    {
     "name": "stderr",
     "output_type": "stream",
     "text": [
      "[nltk_data] Downloading package stopwords to\n",
      "[nltk_data]     C:\\Users\\wctsai\\AppData\\Roaming\\nltk_data...\n",
      "[nltk_data]   Package stopwords is already up-to-date!\n"
     ]
    }
   ],
   "source": [
    "max_length = 200\n",
    "dimension = 100\n",
    "glove = GloVe(name='6B', dim=dimension)\n",
    "tokenizer = get_tokenizer('basic_english')\n",
    "device = torch.device('cuda' if torch.cuda.is_available() else 'cpu')\n",
    "nltk.download('stopwords')\n",
    "stop_words = set(stopwords.words('english'))"
   ]
  },
  {
   "cell_type": "code",
   "execution_count": 3,
   "metadata": {},
   "outputs": [],
   "source": [
    "def build_cross_similarity_cache(test_words, glove):\n",
    "    similarity_dict = {}\n",
    "    \n",
    "    test_vectors = []\n",
    "    for word in tqdm(test_words):\n",
    "        vector = glove.vectors[glove.stoi[word]]\n",
    "        test_vectors.append(vector.numpy())\n",
    "    test_vectors = np.array(test_vectors)\n",
    "    \n",
    "    all_vectors = glove.vectors.numpy()\n",
    "    all_words = list(glove.stoi.keys())\n",
    "    \n",
    "    batch_size = 256\n",
    "    \n",
    "    for i in tqdm(range(0, len(test_words), batch_size)):\n",
    "        batch_vectors = test_vectors[i : i + batch_size]\n",
    "        \n",
    "        distances = cosine_distances(batch_vectors, all_vectors)\n",
    "        \n",
    "        for j, distances_for_word in enumerate(distances):\n",
    "            word = test_words[i + j]\n",
    "            \n",
    "            most_similar_indexs = np.argsort(distances_for_word)[ : 1001]\n",
    "            \n",
    "            word_sim_pairs = [(all_words[index], float(distances_for_word[index])) for index in most_similar_indexs if all_words[index] != word][ : 1000]\n",
    "            \n",
    "            similarity_dict[word] = OrderedDict(word_sim_pairs)\n",
    "    \n",
    "    return similarity_dict\n",
    "\n",
    "test_iter = IMDB(split='test')\n",
    "test_glove_words = []\n",
    "\n",
    "for label, line in test_iter:\n",
    "    test_words = (tokenizer(line))\n",
    "    for test_word in test_words:\n",
    "        if test_word not in test_glove_words:\n",
    "            if test_word in glove.stoi:\n",
    "                test_glove_words.append(test_word)\n",
    "\n",
    "glove_words = [word for word in glove.stoi]\n",
    "\n",
    "similarity_cache = build_cross_similarity_cache(test_glove_words, glove)\n",
    "\n",
    "with open('test_word_similarities_1000.pkl', 'wb') as f:\n",
    "    pickle.dump(similarity_cache, f)"
   ]
  },
  {
   "cell_type": "code",
   "execution_count": 4,
   "metadata": {},
   "outputs": [],
   "source": [
    "with open('test_word_similarities_1000.pkl', 'rb') as f:\n",
    "    similarity_cache = pickle.load(f)\n",
    "\n",
    "def find_similar_words(word, epsilon=0, size=1000):\n",
    "    similar_words = list(similarity_cache[word].items())[ : size]\n",
    "    # print(similar_words)\n",
    "    if epsilon > 0:\n",
    "        for index, ele in enumerate(similar_words):\n",
    "            if ele[1] > epsilon:\n",
    "                similar_words = similar_words[ : index]\n",
    "    \n",
    "    # print(word)\n",
    "    if len(similar_words) > 0:\n",
    "        if word == similar_words[0]:\n",
    "            similar_words = similar_words[1 : ]\n",
    "    \n",
    "    return similar_words"
   ]
  },
  {
   "cell_type": "code",
   "execution_count": 5,
   "metadata": {},
   "outputs": [],
   "source": [
    "# glove_words = []\n",
    "# glove_vectors = []\n",
    "# with open('glove.6B.100d.txt', 'r', encoding='utf8') as f:\n",
    "#     for line in f:\n",
    "#         values = line.split()\n",
    "#         glove_words.append(values[0])\n",
    "#         glove_vectors.append(np.asarray(values[1:], 'float32'))\n",
    "\n",
    "# glove_vectors = np.array(glove_vectors)\n",
    "# word_to_index = {word: idx for idx, word in enumerate(glove_words)}\n",
    "\n",
    "# # nbrs = NearestNeighbors(n_neighbors=10, algorithm='auto').fit(glove_vectors)\n",
    "# nbrs = NearestNeighbors(n_neighbors=10, metric='cosine').fit(glove_vectors)\n",
    "\n",
    "# def find_similar_words(word):\n",
    "#     idx = word_to_index[word]\n",
    "#     vector = glove_vectors[idx].reshape(1, -1)\n",
    "#     distances, indices = nbrs.kneighbors(vector)\n",
    "#     similar_words = [glove_words[i] for i in indices.flatten() if glove_words[i] != word]\n",
    "#     return similar_words"
   ]
  },
  {
   "cell_type": "code",
   "execution_count": 6,
   "metadata": {},
   "outputs": [],
   "source": [
    "# def find_similar_words(word, epsilon, maximum=50):\n",
    "#     word_vector = glove[word]\n",
    "#     similarities = {}\n",
    "\n",
    "#     for candidate_word in glove.stoi:\n",
    "#         if word == candidate_word or candidate_word.lower() in stop_words:\n",
    "#             continue\n",
    "        \n",
    "#         candidate_vector = glove[candidate_word]\n",
    "#         similarity = F.cosine_similarity(word_vector.unsqueeze(0), candidate_vector.unsqueeze(0))\n",
    "        \n",
    "#         # print(similarity)\n",
    "#         if similarity > 1 - epsilon:\n",
    "#             similarities[candidate_word] = similarity.item()\n",
    "    \n",
    "#     sorted_similar_words = sorted(similarities, key=similarities.get, reverse=True)[ : maximum]\n",
    "#     return sorted_similar_words\n",
    "\n",
    "\n",
    "# similarity_cache = {}\n",
    "# def find_similar_words(word, epsilon, maximum=50):\n",
    "#     if word in similarity_cache:\n",
    "#         return similarity_cache[word]\n",
    "#     word_vector = glove[word].unsqueeze(0)\n",
    "#     candidate_vectors = torch.stack([glove[candidate_word] for candidate_word in glove.stoi if candidate_word.lower() not in stop_words])\n",
    "    \n",
    "#     similarities = F.cosine_similarity(word_vector, candidate_vectors, dim=1)\n",
    "#     similar_indices = (similarities > 1 - epsilon).nonzero(as_tuple=True)[0]\n",
    "    \n",
    "#     sorted_indices = torch.argsort(similarities[similar_indices], descending=True)[:maximum]\n",
    "#     similar_words = [list(glove.stoi.keys())[idx] for idx in sorted_indices]\n",
    "\n",
    "#     if len(similar_words) > 0:\n",
    "#         if similar_words[0] == word:\n",
    "#             similar_words = similar_words[1 : ]\n",
    "    \n",
    "#     similarity_cache[word] = similar_words\n",
    "\n",
    "#     return similar_words"
   ]
  },
  {
   "cell_type": "code",
   "execution_count": 7,
   "metadata": {},
   "outputs": [],
   "source": [
    "class IMDBDataset(Dataset):\n",
    "    def __init__(self, split, attack=None, epsilon=0, replace_num=200):\n",
    "        self.data = list(IMDB(split=split))\n",
    "        self.max_length = max_length\n",
    "        self.attack = attack\n",
    "        self.epsilon = epsilon\n",
    "        self.replace_num = replace_num\n",
    "\n",
    "    def __len__(self):\n",
    "        return len(self.data)\n",
    "\n",
    "    def __getitem__(self, index):\n",
    "        label, text = self.data[index]\n",
    "        label = label - 1\n",
    "\n",
    "        tokens = tokenizer(text)\n",
    "        vectors = []\n",
    "\n",
    "        tokens_length = len(tokens[ : self.max_length])\n",
    "        selected_indexs = random.sample(range(tokens_length), tokens_length)\n",
    "        for index, word in enumerate(tokens[ : self.max_length]):\n",
    "            if word in glove.stoi:\n",
    "                if not self.attack or (word.lower() in stop_words):\n",
    "                    vectors.append(glove[word])\n",
    "                    if index in selected_indexs[ : self.replace_num]:\n",
    "                        selected_indexs.remove(index)\n",
    "                else:\n",
    "                    # if random.randint(1, 20) == 1:\n",
    "                    if index in selected_indexs[ : self.replace_num]:\n",
    "                        sorted_similar_words = find_similar_words(word, self.epsilon)\n",
    "                        # sorted_similar_words = find_similar_words(word)\n",
    "                        if len(sorted_similar_words) == 0:\n",
    "                            sorted_similar_words = [word]\n",
    "                        \n",
    "                        if self.attack == 'random':\n",
    "                            replacement = random.choice(sorted_similar_words)\n",
    "                        elif self.attack == 'best':\n",
    "                            replacement = sorted_similar_words[0]\n",
    "                        elif self.attack == 'worst':\n",
    "                            replacement = sorted_similar_words[-1]\n",
    "                        vectors.append(glove[replacement])\n",
    "                    else:\n",
    "                        vectors.append(glove[word])\n",
    "            else:\n",
    "                vectors.append(torch.zeros(dimension))\n",
    "\n",
    "        while len(vectors) < self.max_length:\n",
    "            vectors.append(torch.zeros(dimension))\n",
    "        \n",
    "        return torch.stack(vectors).view(-1), label\n",
    "        # return torch.stack(vectors), label"
   ]
  },
  {
   "cell_type": "code",
   "execution_count": 8,
   "metadata": {},
   "outputs": [
    {
     "name": "stderr",
     "output_type": "stream",
     "text": [
      "c:\\Users\\wctsa\\Desktop\\cs521\\hw3\\cs521\\lib\\site-packages\\torchdata\\datapipes\\__init__.py:18: UserWarning: \n",
      "################################################################################\n",
      "WARNING!\n",
      "The 'datapipes', 'dataloader2' modules are deprecated and will be removed in a\n",
      "future torchdata release! Please see https://github.com/pytorch/data/issues/1196\n",
      "to learn more and leave feedback.\n",
      "################################################################################\n",
      "\n",
      "  deprecation_warning()\n"
     ]
    }
   ],
   "source": [
    "batch_size = 32\n",
    "train_data = IMDBDataset(split='train')\n",
    "train_loader = DataLoader(train_data, batch_size=batch_size, shuffle=True)\n",
    "\n",
    "test_data = IMDBDataset(split='test')\n",
    "test_loader = DataLoader(test_data, batch_size=batch_size, shuffle=False)"
   ]
  },
  {
   "cell_type": "code",
   "execution_count": 9,
   "metadata": {},
   "outputs": [],
   "source": [
    "# from torchtext.datasets import IMDB\n",
    "\n",
    "# train_iter = IMDB(split='test')\n",
    "\n",
    "# def tokenize(label, line):\n",
    "#     return line.split()\n",
    "\n",
    "# tokens = []\n",
    "# length = []\n",
    "# for label, line in train_iter:\n",
    "#     length.append(len(line.split()))\n",
    "\n",
    "# print(sum(length) / len(length))"
   ]
  },
  {
   "cell_type": "code",
   "execution_count": 10,
   "metadata": {},
   "outputs": [],
   "source": [
    "class Net(nn.Module):\n",
    "    def __init__(self, max_length, dimension):\n",
    "        super(Net, self).__init__()\n",
    "        dimension = max_length * dimension\n",
    "        self.fc1 = nn.Linear(dimension, 100)\n",
    "        self.fc2 = nn.Linear(100, 100)\n",
    "        self.fc3 = nn.Linear(100, 100)\n",
    "        self.fc4 = nn.Linear(100, 2)\n",
    "    \n",
    "    def forward(self, x):\n",
    "        x = F.relu(self.fc1(x))\n",
    "        x = F.relu(self.fc2(x))\n",
    "        x = F.relu(self.fc3(x))\n",
    "        x = self.fc4(x)\n",
    "        return x"
   ]
  },
  {
   "cell_type": "code",
   "execution_count": 11,
   "metadata": {},
   "outputs": [],
   "source": [
    "def bounds_calculation(model, data, epsilon):\n",
    "    model.eval()\n",
    "    lower_bound = data - epsilon\n",
    "    upper_bound = data + epsilon\n",
    "\n",
    "    # print(model.modules())\n",
    "    layers = list(model.children())\n",
    "\n",
    "    for layer in layers:\n",
    "        # print(layer)\n",
    "        if isinstance(layer, nn.ReLU):\n",
    "            lower_bound = torch.clamp(lower_bound, min=0)\n",
    "            upper_bound = torch.clamp(upper_bound, min=0)\n",
    "            # https://github.com/google-deepmind/interval-bound-propagation/blob/217a14d12686e08ebb5cfea1f2748cce58a55913/interval_bound_propagation/src/crown.py\n",
    "\n",
    "\n",
    "        elif isinstance(layer, nn.Linear):\n",
    "            lower_bound = lower_bound.view(lower_bound.size(0), -1)\n",
    "            upper_bound = upper_bound.view(upper_bound.size(0), -1)\n",
    "\n",
    "            # print(layer.weight)\n",
    "\n",
    "            positive = torch.clamp(layer.weight, min=0)\n",
    "            negative = torch.clamp(layer.weight, max=0)\n",
    "\n",
    "            lower = torch.matmul(lower_bound, positive.T) + torch.matmul(upper_bound, negative.T)\n",
    "            upper = torch.matmul(upper_bound, positive.T) + torch.matmul(lower_bound, negative.T)\n",
    "\n",
    "            lower_bound = lower + layer.bias\n",
    "            upper_bound = upper + layer.bias\n",
    "\n",
    "    return lower_bound, upper_bound"
   ]
  },
  {
   "cell_type": "code",
   "execution_count": 12,
   "metadata": {},
   "outputs": [],
   "source": [
    "model = Net(max_length, dimension).to(device)\n",
    "# model.load_state_dict(torch.load('model.pth'))\n",
    "model.train()\n",
    "criterion = nn.CrossEntropyLoss()\n",
    "optimizer = optim.Adam(model.parameters(), lr=0.001)"
   ]
  },
  {
   "cell_type": "code",
   "execution_count": 13,
   "metadata": {},
   "outputs": [],
   "source": [
    "def ibp_loss(normal_output, target, lower_bound, upper_bound, k):\n",
    "    # https://github.com/google-deepmind/interval-bound-propagation/blob/217a14d12686e08ebb5cfea1f2748cce58a55913/interval_bound_propagation/src/loss.py\n",
    "    normal_loss = criterion(normal_output, target)\n",
    "\n",
    "    worst = lower_bound.clone()\n",
    "    indexs = (torch.arange(target.size(0)), target)\n",
    "    worst[indexs] = upper_bound[indexs]\n",
    "\n",
    "    robust_loss = criterion(worst, target)\n",
    "\n",
    "    return k * normal_loss + (1 - k) * robust_loss\n",
    "    # return (1 - k) * normal_loss + k * robust_loss"
   ]
  },
  {
   "cell_type": "code",
   "execution_count": 14,
   "metadata": {},
   "outputs": [],
   "source": [
    "def train(model, train_loader, optimizer, epochs):\n",
    "    model.train()\n",
    "    for epoch in range(epochs):\n",
    "        total_loss = 0\n",
    "        k = 1 - 0.5 * (epoch / epochs)\n",
    "        e_train = 0.1 * (epoch / epochs)\n",
    "        for data, target in train_loader:\n",
    "            data, target = data.to(device), target.to(device)\n",
    "\n",
    "            optimizer.zero_grad()\n",
    "            output = model(data)\n",
    "\n",
    "            lower_bound, upper_bound = bounds_calculation(model, data, e_train)\n",
    "\n",
    "            # loss = criterion(outputs, target)\n",
    "            loss = ibp_loss(output, target, lower_bound, upper_bound, k)\n",
    "\n",
    "            loss.backward()\n",
    "            optimizer.step()\n",
    "\n",
    "        print(f'Epoch [{epoch + 1}/{epochs}], Loss: {loss.item():.4f}')"
   ]
  },
  {
   "cell_type": "code",
   "execution_count": 15,
   "metadata": {},
   "outputs": [],
   "source": [
    "def test(model, test_loader):\n",
    "    model.eval()\n",
    "    correct, total = 0, 0\n",
    "    with torch.no_grad():\n",
    "        for data, target in tqdm(test_loader):\n",
    "            data, target = data.to(device), target.to(device)\n",
    "            outputs = model(data)\n",
    "            predicted = torch.argmax(outputs, dim=1)\n",
    "            total += target.size(0)\n",
    "            correct += (predicted == target).sum().item()\n",
    "\n",
    "    print(f'Test Accuracy: {100 * correct / total:.2f}%')\n",
    "    return correct / total"
   ]
  },
  {
   "cell_type": "code",
   "execution_count": 16,
   "metadata": {},
   "outputs": [
    {
     "name": "stdout",
     "output_type": "stream",
     "text": [
      "Epoch [1/10], Loss: 0.7039\n",
      "Epoch [2/10], Loss: 0.2978\n",
      "Epoch [3/10], Loss: 0.2218\n",
      "Epoch [4/10], Loss: 0.7102\n",
      "Epoch [5/10], Loss: 0.2651\n",
      "Epoch [6/10], Loss: 0.7952\n",
      "Epoch [7/10], Loss: 0.0949\n",
      "Epoch [8/10], Loss: 0.0367\n",
      "Epoch [9/10], Loss: 0.0274\n",
      "Epoch [10/10], Loss: 0.0016\n"
     ]
    },
    {
     "name": "stderr",
     "output_type": "stream",
     "text": [
      "100%|██████████| 782/782 [00:14<00:00, 54.12it/s]"
     ]
    },
    {
     "name": "stdout",
     "output_type": "stream",
     "text": [
      "Test Accuracy: 68.55%\n"
     ]
    },
    {
     "name": "stderr",
     "output_type": "stream",
     "text": [
      "\n"
     ]
    },
    {
     "data": {
      "text/plain": [
       "0.68552"
      ]
     },
     "execution_count": 16,
     "metadata": {},
     "output_type": "execute_result"
    }
   ],
   "source": [
    "epochs = 10\n",
    "\n",
    "train(model, train_loader, optimizer, epochs)\n",
    "test(model, test_loader)\n",
    "# torch.save(model.state_dict(), 'model.pth')"
   ]
  },
  {
   "cell_type": "code",
   "execution_count": 17,
   "metadata": {},
   "outputs": [
    {
     "name": "stderr",
     "output_type": "stream",
     "text": [
      "100%|██████████| 782/782 [04:00<00:00,  3.25it/s]\n"
     ]
    },
    {
     "name": "stdout",
     "output_type": "stream",
     "text": [
      "Test Accuracy: 67.46%\n"
     ]
    },
    {
     "name": "stderr",
     "output_type": "stream",
     "text": [
      "100%|██████████| 782/782 [04:30<00:00,  2.89it/s]\n"
     ]
    },
    {
     "name": "stdout",
     "output_type": "stream",
     "text": [
      "Test Accuracy: 65.45%\n"
     ]
    },
    {
     "name": "stderr",
     "output_type": "stream",
     "text": [
      "100%|██████████| 782/782 [06:25<00:00,  2.03it/s]\n"
     ]
    },
    {
     "name": "stdout",
     "output_type": "stream",
     "text": [
      "Test Accuracy: 57.78%\n"
     ]
    },
    {
     "name": "stderr",
     "output_type": "stream",
     "text": [
      "100%|██████████| 782/782 [10:08<00:00,  1.29it/s]\n"
     ]
    },
    {
     "name": "stdout",
     "output_type": "stream",
     "text": [
      "Test Accuracy: 55.93%\n"
     ]
    },
    {
     "name": "stderr",
     "output_type": "stream",
     "text": [
      "100%|██████████| 782/782 [08:59<00:00,  1.45it/s]\n"
     ]
    },
    {
     "name": "stdout",
     "output_type": "stream",
     "text": [
      "Test Accuracy: 55.87%\n"
     ]
    },
    {
     "name": "stderr",
     "output_type": "stream",
     "text": [
      "100%|██████████| 782/782 [05:45<00:00,  2.27it/s]\n"
     ]
    },
    {
     "name": "stdout",
     "output_type": "stream",
     "text": [
      "Test Accuracy: 55.86%\n"
     ]
    },
    {
     "name": "stderr",
     "output_type": "stream",
     "text": [
      "100%|██████████| 782/782 [03:11<00:00,  4.09it/s]\n"
     ]
    },
    {
     "name": "stdout",
     "output_type": "stream",
     "text": [
      "Test Accuracy: 55.86%\n"
     ]
    },
    {
     "name": "stderr",
     "output_type": "stream",
     "text": [
      "100%|██████████| 782/782 [03:05<00:00,  4.20it/s]\n"
     ]
    },
    {
     "name": "stdout",
     "output_type": "stream",
     "text": [
      "Test Accuracy: 55.86%\n"
     ]
    },
    {
     "name": "stderr",
     "output_type": "stream",
     "text": [
      "100%|██████████| 782/782 [03:19<00:00,  3.93it/s]\n"
     ]
    },
    {
     "name": "stdout",
     "output_type": "stream",
     "text": [
      "Test Accuracy: 55.86%\n"
     ]
    },
    {
     "name": "stderr",
     "output_type": "stream",
     "text": [
      "100%|██████████| 782/782 [03:15<00:00,  3.99it/s]"
     ]
    },
    {
     "name": "stdout",
     "output_type": "stream",
     "text": [
      "Test Accuracy: 55.86%\n"
     ]
    },
    {
     "name": "stderr",
     "output_type": "stream",
     "text": [
      "\n"
     ]
    }
   ],
   "source": [
    "epsilons = [0.1, 0.2, 0.3, 0.4, 0.5, 0.6, 0.7, 0.8, 0.9, 1.0]\n",
    "robust_accuracy = []\n",
    "\n",
    "for epsilon in epsilons:\n",
    "    attack_random_test_data = IMDBDataset(split='test', attack='random', epsilon=epsilon)\n",
    "    attack_random_test_loader = DataLoader(attack_random_test_data, batch_size=batch_size, shuffle=False)\n",
    "    robust_accuracy.append(test(model, attack_random_test_loader))"
   ]
  },
  {
   "cell_type": "code",
   "execution_count": 19,
   "metadata": {},
   "outputs": [
    {
     "data": {
      "image/png": "[encoded data removed]",
      "text/plain": [
       "<Figure size 640x480 with 1 Axes>"
      ]
     },
     "metadata": {},
     "output_type": "display_data"
    }
   ],
   "source": [
    "plt.plot(epsilons[ : 7], robust_accuracy[ : 7], marker='s', label='Robust Accuracy')\n",
    "\n",
    "plt.xlabel('Distances')\n",
    "plt.ylabel('Accuracy')\n",
    "plt.title('Accuracy')\n",
    "plt.legend()\n",
    "\n",
    "plt.grid(True)\n",
    "plt.show()"
   ]
  },
  {
   "cell_type": "code",
   "execution_count": null,
   "metadata": {},
   "outputs": [],
   "source": []
  }
 ],
 "metadata": {
  "kernelspec": {
   "display_name": "cs521",
   "language": "python",
   "name": "python3"
  },
  "language_info": {
   "codemirror_mode": {
    "name": "ipython",
    "version": 3
   },
   "file_extension": ".py",
   "mimetype": "text/x-python",
   "name": "python",
   "nbconvert_exporter": "python",
   "pygments_lexer": "ipython3",
   "version": "3.10.11"
  }
 },
 "nbformat": 4,
 "nbformat_minor": 2
}
